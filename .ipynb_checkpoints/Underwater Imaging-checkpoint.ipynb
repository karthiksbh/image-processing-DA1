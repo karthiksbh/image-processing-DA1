{
 "cells": [
  {
   "cell_type": "markdown",
   "id": "605be541",
   "metadata": {},
   "source": [
    "# 1. Importing Necessary Packages"
   ]
  },
  {
   "cell_type": "code",
   "execution_count": 15,
   "id": "f150da07",
   "metadata": {},
   "outputs": [],
   "source": [
    "import numpy as np\n",
    "import cv2"
   ]
  },
  {
   "cell_type": "markdown",
   "id": "0e8c1cec",
   "metadata": {},
   "source": [
    "# 2. Function to resize the image"
   ]
  },
  {
   "cell_type": "code",
   "execution_count": 16,
   "id": "37266184",
   "metadata": {},
   "outputs": [],
   "source": [
    "def imageResize(img, perc=0.5):\n",
    "    img_width = int(img.shape[1] * perc)\n",
    "    img_height = int(img.shape[0] * perc)\n",
    "    resizedImage = cv2.resize(img, (img_width, img_height), interpolation=cv2.INTER_AREA)\n",
    "    return resizedImage"
   ]
  },
  {
   "cell_type": "markdown",
   "id": "fdcd12a9",
   "metadata": {},
   "source": [
    "# 3. Function to Calculate Dark Channel"
   ]
  },
  {
   "cell_type": "code",
   "execution_count": 17,
   "id": "c5421ec2",
   "metadata": {},
   "outputs": [],
   "source": [
    "def calculateDarkChannel(img,sz=15):\n",
    "    blue, green, red = cv2.split(img)\n",
    "    darkCh = red - cv2.max(blue, green)\n",
    "    kernelVal = cv2.getStructuringElement(cv2.MORPH_RECT, (sz, sz))\n",
    "    darkChannel = cv2.erode(darkCh, kernelVal)\n",
    "    return darkChannel"
   ]
  },
  {
   "cell_type": "markdown",
   "id": "72e9e3c2",
   "metadata": {},
   "source": [
    "# 4. Function to Calculate air light of an image"
   ]
  },
  {
   "cell_type": "code",
   "execution_count": 18,
   "id": "074b41df",
   "metadata": {},
   "outputs": [],
   "source": [
    "def calculateAirlight(img, dc):\n",
    "    [height, width] = img.shape[:2]\n",
    "    imageSize = height * width\n",
    "    imgVector = img.reshape(imageSize, 3)\n",
    "    darkChvec = dc.reshape(imageSize)\n",
    "    indices = darkChvec.argsort()\n",
    "    return imgVector[indices[0]]"
   ]
  },
  {
   "cell_type": "markdown",
   "id": "56ffe486",
   "metadata": {},
   "source": [
    "# 5. Function to Calculate Transmission Estimate"
   ]
  },
  {
   "cell_type": "code",
   "execution_count": 19,
   "id": "7c810c12",
   "metadata": {},
   "outputs": [],
   "source": [
    "def calculateTransmissionEstimate(darkCh):\n",
    "    transmissionEstimate = darkCh + (1 - np.max(darkCh))\n",
    "    return transmissionEstimate"
   ]
  },
  {
   "cell_type": "markdown",
   "id": "537361b8",
   "metadata": {},
   "source": [
    "# 6. Function to refine the filter"
   ]
  },
  {
   "cell_type": "code",
   "execution_count": 20,
   "id": "614780c2",
   "metadata": {},
   "outputs": [],
   "source": [
    "def refineFilter(img, p, r, eps):\n",
    "    mean_I = cv2.boxFilter(img, cv2.CV_64F, (r, r))\n",
    "    mean_p = cv2.boxFilter(p, cv2.CV_64F, (r, r))\n",
    "    mean_Ip = cv2.boxFilter(img * p, cv2.CV_64F, (r, r))\n",
    "    cov_Ip = mean_Ip - mean_I * mean_p\n",
    "\n",
    "    mean_II = cv2.boxFilter(img * img, cv2.CV_64F, (r, r))\n",
    "    var_I = mean_II - mean_I * mean_I\n",
    "\n",
    "    a = cov_Ip / (var_I + eps)\n",
    "    b = mean_p - a * mean_I\n",
    "\n",
    "    mean_a = cv2.boxFilter(a, cv2.CV_64F, (r, r))\n",
    "    mean_b = cv2.boxFilter(b, cv2.CV_64F, (r, r))\n",
    "\n",
    "    refinedOutput = mean_a * img + mean_b\n",
    "    return refinedOutput"
   ]
  },
  {
   "cell_type": "markdown",
   "id": "a8d09af2",
   "metadata": {},
   "source": [
    "# 7. Refine the transmission map created"
   ]
  },
  {
   "cell_type": "code",
   "execution_count": 21,
   "id": "d874c0d1",
   "metadata": {},
   "outputs": [],
   "source": [
    "def refineTransmission(img, et):\n",
    "    gray = cv2.cvtColor(img, cv2.COLOR_BGR2GRAY)\n",
    "    gray = np.float64(gray) / 255\n",
    "    r = 60\n",
    "    eps = 0.0001\n",
    "    refinedT = refineFilter(gray, et, r, eps)\n",
    "    return refinedT"
   ]
  },
  {
   "cell_type": "markdown",
   "id": "5d53355b",
   "metadata": {},
   "source": [
    "# 8. Normalize the intensities of the pixels in the image"
   ]
  },
  {
   "cell_type": "code",
   "execution_count": 22,
   "id": "8f2ed487",
   "metadata": {},
   "outputs": [],
   "source": [
    "def normalizeImage(img):\n",
    "    img = img - img.min()\n",
    "    img = img / img.max() * 255\n",
    "    img = np.uint8(img)\n",
    "    return img"
   ]
  },
  {
   "cell_type": "markdown",
   "id": "de39338e",
   "metadata": {},
   "source": [
    "# 9. Recover the final image after transmission map and air light"
   ]
  },
  {
   "cell_type": "code",
   "execution_count": 23,
   "id": "24493097",
   "metadata": {},
   "outputs": [],
   "source": [
    "def recover(img, t, A):\n",
    "    finalRes = np.empty(img.shape, img.dtype)\n",
    "    for index in range(0, 3):\n",
    "        finalRes[:, :, index] = (img[:, :, index] - A[index]) / t + A[index]\n",
    "    return finalRes"
   ]
  },
  {
   "cell_type": "markdown",
   "id": "04856aee",
   "metadata": {},
   "source": [
    "# 10. Enter the Input File name, read the Image and resize it"
   ]
  },
  {
   "cell_type": "code",
   "execution_count": 24,
   "id": "e2bb3cc9",
   "metadata": {},
   "outputs": [
    {
     "name": "stdout",
     "output_type": "stream",
     "text": [
      "Enter the name of the file with extension: img1.png\n"
     ]
    }
   ],
   "source": [
    "filename = input(\"Enter the name of the file with extension: \")\n",
    "scale = 1\n",
    "\n",
    "src = cv2.imread(f'images/input_images/{filename}')\n",
    "src = imageResize(src, scale)\n",
    "\n",
    "img = src.astype('float64') / 255"
   ]
  },
  {
   "cell_type": "markdown",
   "id": "a4eaa33a",
   "metadata": {},
   "source": [
    "# 11. Dehaze the given image and store it in the output directory"
   ]
  },
  {
   "cell_type": "code",
   "execution_count": 25,
   "id": "8d6ed863",
   "metadata": {},
   "outputs": [
    {
     "data": {
      "text/plain": [
       "True"
      ]
     },
     "execution_count": 25,
     "metadata": {},
     "output_type": "execute_result"
    }
   ],
   "source": [
    "while True: \n",
    "    ksize = 2\n",
    "    dc = calculateDarkChannel(img,ksize)\n",
    "    te = calculateTransmissionEstimate(dc)\n",
    "    tr = refineTransmission(src, te)\n",
    "    A = calculateAirlight(img, tr)\n",
    "    result = recover(img, tr, A)\n",
    "    result = normalizeImage(result)\n",
    "    \n",
    "    cv2.namedWindow(\"Input Image\",cv2.WINDOW_NORMAL)\n",
    "    cv2.resizeWindow(\"Input Image\", 800, 600)\n",
    "    cv2.imshow(\"Input Image\", src)\n",
    "    \n",
    "    cv2.namedWindow(\"Result\",cv2.WINDOW_NORMAL)\n",
    "    cv2.resizeWindow(\"Result\", 800, 600)\n",
    "    cv2.imshow(\"Result\", result)\n",
    "\n",
    "    if cv2.waitKey(1) & 0xFF == ord('q'):\n",
    "        break\n",
    "\n",
    "cv2.destroyAllWindows()\n",
    "\n",
    "cv2.imwrite(f'images/output_images/{filename}', result)"
   ]
  },
  {
   "cell_type": "code",
   "execution_count": null,
   "id": "cdd958fb",
   "metadata": {},
   "outputs": [],
   "source": []
  },
  {
   "cell_type": "code",
   "execution_count": null,
   "id": "912a6677",
   "metadata": {},
   "outputs": [],
   "source": []
  }
 ],
 "metadata": {
  "kernelspec": {
   "display_name": "Python 3",
   "language": "python",
   "name": "python3"
  },
  "language_info": {
   "codemirror_mode": {
    "name": "ipython",
    "version": 3
   },
   "file_extension": ".py",
   "mimetype": "text/x-python",
   "name": "python",
   "nbconvert_exporter": "python",
   "pygments_lexer": "ipython3",
   "version": "3.8.8"
  }
 },
 "nbformat": 4,
 "nbformat_minor": 5
}
